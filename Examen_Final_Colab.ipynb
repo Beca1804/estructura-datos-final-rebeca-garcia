{
  "nbformat": 4,
  "nbformat_minor": 0,
  "metadata": {
    "colab": {
      "provenance": [],
      "name": "Examen_Final_Colab.ipynb",
      "authorship_tag": "ABX9TyOGc43KU5zeU/CeUp2i4e1W",
      "include_colab_link": true
    },
    "kernelspec": {
      "name": "python3",
      "display_name": "Python 3"
    },
    "language_info": {
      "name": "python"
    }
  },
  "cells": [
    {
      "cell_type": "markdown",
      "metadata": {
        "id": "view-in-github",
        "colab_type": "text"
      },
      "source": [
        "<a href=\"https://colab.research.google.com/github/Beca1804/estructura-datos-final-rebeca-garcia/blob/main/Examen_Final_Colab.ipynb\" target=\"_parent\"><img src=\"https://colab.research.google.com/assets/colab-badge.svg\" alt=\"Open In Colab\"/></a>"
      ]
    },
    {
      "cell_type": "markdown",
      "source": [
        "# Two Sums"
      ],
      "metadata": {
        "id": "o5UevNsumbX6"
      }
    },
    {
      "cell_type": "markdown",
      "source": [
        "**Autor: Rebeca García Rodríguez\n",
        "Matrícula: 14457**\n",
        "\n",
        "Dado un arreglo de números enteros nums y un número entero target, encontrar los índices de los dos números que suman exactamente target.\n",
        "Dado un arreglo de números enteros nums y un número entero target, encontrar los índices de los dos números que suman exactamente target."
      ],
      "metadata": {
        "id": "R9XR43x5lQXU"
      }
    },
    {
      "cell_type": "code",
      "source": [
        "from typing import List  # Importamos List para indicar tipos en la función\n",
        "\n",
        "class Solution:\n",
        "    def twoSum(self, nums: List[int], target: int) -> List[int]:\n",
        "        # Recorremos cada índice i en la lista nums\n",
        "        for i in range(len(nums)):\n",
        "            # Para cada i, recorremos los índices j que están después de i\n",
        "            for j in range(i + 1, len(nums)):\n",
        "                # Verificamos si la suma de nums[i] + nums[j] es igual al target\n",
        "                if nums[j] == target - nums[i]:\n",
        "                    # Si sí, devolvemos los índices i y j como resultado\n",
        "                    return [i, j]\n",
        "\n",
        "# Creamos una instancia de la clase Solution\n",
        "solu = Solution()\n",
        "# Lista de números de ejemplo\n",
        "nums = [3, 8, 12, 15, 7]\n",
        "# Valor objetivo que queremos obtener con la suma de dos números\n",
        "target = 19\n",
        "# Ejecutamos el método twoSum con los datos de ejemplo\n",
        "result = solu.twoSum(nums, target)\n",
        "# Imprimimos los índices encontrados\n",
        "print(\"Índices encontrados (fuerza bruta):\", result)\n",
        "\n"
      ],
      "metadata": {
        "colab": {
          "base_uri": "https://localhost:8080/"
        },
        "id": "wM1AX9cFlaNy",
        "outputId": "2efa8c30-899b-4efc-8e15-53ef14beb9c3"
      },
      "execution_count": null,
      "outputs": [
        {
          "output_type": "stream",
          "name": "stdout",
          "text": [
            "Índices encontrados (fuerza bruta): [2, 4]\n"
          ]
        }
      ]
    },
    {
      "cell_type": "markdown",
      "source": [
        "Análisis de eficiencia:\n",
        "Tiempo: O(n²) → Porque son dos ciclos anidados.\n",
        "\n",
        "Espacio: O(1) → No se usa memoria extra.\n",
        "\n"
      ],
      "metadata": {
        "id": "8LaBQaCDzcdx"
      }
    },
    {
      "cell_type": "code",
      "source": [
        "from typing import List  # Importamos List para indicar tipos en la función\n",
        "\n",
        "class Solution:\n",
        "    def twoSum(self, nums: List[int], target: int) -> List[int]:\n",
        "        mapa = {}  # Creamos un diccionario vacío para guardar valores y sus índices\n",
        "\n",
        "        # Recorremos la lista con índice i y valor num usando enumerate\n",
        "        for i, num in enumerate(nums):\n",
        "            # Calculamos el complemento que necesitamos para llegar al target\n",
        "            complemento = target - num\n",
        "\n",
        "            # Verificamos si el complemento ya está guardado en el diccionario\n",
        "            if complemento in mapa:\n",
        "                # Si está, devolvemos el índice del complemento y el índice actual i\n",
        "                return [mapa[complemento], i]\n",
        "\n",
        "            # Si no está, guardamos el número actual como clave y su índice como valor\n",
        "            mapa[num] = i\n",
        "\n",
        "# Creamos una instancia de la clase Solution\n",
        "solu = Solution()\n",
        "# Lista de números de ejemplo\n",
        "nums = [3, 8, 12, 15, 7]\n",
        "# Valor objetivo que queremos obtener con la suma de dos números\n",
        "target = 19\n",
        "# Ejecutamos el método twoSum con los datos de ejemplo\n",
        "result = solu.twoSum(nums, target)\n",
        "# Imprimimos los índices encontrados\n",
        "print(\"Índices encontrados (con hash map):\", result)\n"
      ],
      "metadata": {
        "id": "jtyKHwbUznLh"
      },
      "execution_count": null,
      "outputs": []
    },
    {
      "cell_type": "markdown",
      "source": [
        "**Explicación** :\n",
        "Recorremos la lista una sola vez.\n",
        "\n",
        "Para cada número calculamos qué falta para llegar al target (complemento).\n",
        "\n",
        "Si ese complemento ya lo vimos antes (está en el diccionario), devolvemos ambos índices.\n",
        "\n",
        "Si no, guardamos el número actual y su posición en el diccionario para futuras búsquedas rápidas.\n",
        "\n",
        "\n",
        "**Análisis de Complejidad**\n",
        "Tiempo: O(n) porque cada elemento se procesa solo una vez y la búsqueda en diccionario es O(1).\n",
        "\n",
        "**Complejidad:** O(n) por el diccionario que puede crecer hasta almacenar todos los números.\n",
        "\n",
        "**Uso de estructuras de datos**\n",
        "Usa un diccionario (hash map) para optimizar la búsqueda de complementos."
      ],
      "metadata": {
        "id": "oxoG5gGs1jOC"
      }
    },
    {
      "cell_type": "markdown",
      "source": [
        "\n",
        "\n",
        "\n",
        "\n",
        "# Longest Common Prefix"
      ],
      "metadata": {
        "id": "OUH2hd0M237R"
      }
    },
    {
      "cell_type": "markdown",
      "source": [
        "Escriba una función para encontrar la cadena con prefijo común más larga entre un array de cadenas.\n",
        "\n",
        "Si no hay prefijo común, devuelva una cadena vacía."
      ],
      "metadata": {
        "id": "vWIvWEk75kpq"
      }
    },
    {
      "cell_type": "code",
      "source": [
        "from typing import List\n",
        "\n",
        "class Solution:\n",
        "    def longestCommonPrefix(self, strs: List[str]) -> str:\n",
        "        # Si la lista está vacía, regresamos una cadena vacía\n",
        "        if not strs:\n",
        "            return \"\"\n",
        "\n",
        "        # Tomamos el primer string como referencia\n",
        "        prefijo = strs[0]\n",
        "\n",
        "        # Comparamos el prefijo con cada string de la lista\n",
        "        for s in strs[1:]:\n",
        "            # Mientras el string actual no comience con el prefijo\n",
        "            while not s.startswith(prefijo):\n",
        "                # Quitamos el último carácter del prefijo\n",
        "                prefijo = prefijo[:-1]\n",
        "\n",
        "                # Si eliminamos todo el prefijo y no hay coincidencias\n",
        "                if not prefijo:\n",
        "                    return \"\"\n",
        "\n",
        "        # Retornamos el prefijo común encontrado\n",
        "        return prefijo\n",
        "\n",
        "# Ejemplo Usandolo:\n",
        "sol = Solution()\n",
        "entrada = [\"flower\", \"flow\", \"flight\"]\n",
        "print(\"Prefijo común más largo:\", sol.longestCommonPrefix(entrada))\n"
      ],
      "metadata": {
        "colab": {
          "base_uri": "https://localhost:8080/"
        },
        "id": "cUCqpGqU5Lc1",
        "outputId": "17b10cd8-62fc-4eec-c25d-bfdca36c175e"
      },
      "execution_count": null,
      "outputs": [
        {
          "output_type": "stream",
          "name": "stdout",
          "text": [
            "Prefijo común más largo: fl\n"
          ]
        }
      ]
    },
    {
      "cell_type": "markdown",
      "source": [
        "Complejidad\n",
        "Tiempo: O(S), donde S es la suma total de caracteres en todos los strings.\n",
        "\n",
        "Espacio: O(1), no se usan estructuras de datos adicionales.\n",
        "\n"
      ],
      "metadata": {
        "id": "M8wzLXfx6Uob"
      }
    },
    {
      "cell_type": "markdown",
      "source": [
        "**Version optimizada**"
      ],
      "metadata": {
        "id": "JNLiHOiI6iAp"
      }
    },
    {
      "cell_type": "code",
      "source": [
        "from typing import List\n",
        "\n",
        "class Solution:\n",
        "    def longestCommonPrefix(self, strs: List[str]) -> str:\n",
        "        # Si no hay palabras en la lista, regresamos \"\"\n",
        "        if not strs:\n",
        "            return \"\"\n",
        "\n",
        "        # Recorremos letra por letra usando zip, que empareja los caracteres\n",
        "        for i, letra in enumerate(zip(*strs)):\n",
        "            # Convertimos la tupla en conjunto para ver si todas son iguales\n",
        "            if len(set(letra)) > 1:\n",
        "                # Si hay diferencia, retornamos hasta la posición i\n",
        "                return strs[0][:i]\n",
        "\n",
        "        # Si todas coinciden, regresamos el primer string completo\n",
        "        return strs[0]\n",
        "\n",
        "# Ejemplo de uso\n",
        "sol = Solution()\n",
        "entrada = [\"flower\", \"flow\", \"flight\"]\n",
        "print(\"Prefijo común más largo (opt):\", sol.longestCommonPrefix(entrada))\n",
        "\n",
        "\n",
        "#sol es la instancia de la clase solution\n",
        "#entrada lista de cadenas que le paso para que busque el prefijo común\n",
        "#longestCommonPrefix Es el metodo que cree dentro de esa clase\n",
        "\n"
      ],
      "metadata": {
        "id": "t4HgIERr6v1l"
      },
      "execution_count": null,
      "outputs": []
    },
    {
      "cell_type": "markdown",
      "source": [
        "Complejidad\n",
        "Tiempo: O(S) Es un poco más eficiente en la práctica.\n",
        "\n",
        "Espacio: O(1) también."
      ],
      "metadata": {
        "id": "9Kn9R71b7Cp8"
      }
    },
    {
      "cell_type": "markdown",
      "source": [
        "**Explicación:**\n",
        "\n",
        "Tomamos el primer string como base.\n",
        "\n",
        "Recorremos todos los demás strings de la lista.\n",
        "\n",
        "Mientras alguno no empiece con el prefijo actual, lo vamos recortando letra por letra.\n",
        "\n",
        "Si al final el prefijo queda vacío, quiere decir que no hay nada en común.\n",
        "\n",
        "Cuando termina el ciclo, tenemos el prefijo que todos comparten al inicio.\n",
        "\n",
        "**Análisis de Complejidad**\n",
        "Tiempo: O(S)\n",
        "Donde S es la suma total de todos los caracteres de los strings.\n",
        "En el peor caso, puede comparar todos los caracteres de cada string.\n",
        "\n",
        "**Espacio: O(1)**\n",
        "Solo usamos espacio adicional para guardar el prefix, no estructuras grandes.\n",
        "\n",
        "Uso de estructuras de datos **texto en negrita**\n",
        "No se usan estructuras complejas, solo operaciones básicas sobre strings.\n",
        "\n",
        "Se aprovecha el método startswith() que es eficiente para comparar prefijos."
      ],
      "metadata": {
        "id": "cjRlmjUc8MuE"
      }
    },
    {
      "cell_type": "markdown",
      "source": [
        "# Valid Parentheses"
      ],
      "metadata": {
        "id": "T4FQ_04HXuN3"
      }
    },
    {
      "cell_type": "code",
      "source": [
        "class Solution:\n",
        "    def isValid(self, s: str) -> bool:\n",
        "        # Creamos un diccionario para relacionar cada paréntesis cerrado con su abierto correspondiente\n",
        "        par = {')': '(', '}': '{', ']': '['}\n",
        "\n",
        "        # Inicializamos una lista vacía que usaremos como pila para almacenar paréntesis abiertos\n",
        "        stack = []\n",
        "\n",
        "        # Recorremos cada carácter en la cadena de entrada\n",
        "        for char in s:\n",
        "            # Si el carácter es uno de los paréntesis cerrados\n",
        "            if char in par:\n",
        "                # Intentamos sacar el último paréntesis abierto de la pila, si está vacía usamos '#'\n",
        "                top_element = stack.pop() if stack else '#'\n",
        "\n",
        "                # Comprobamos si el paréntesis abierto esperado coincide con el que sacamos\n",
        "                if par[char] != top_element:\n",
        "                    # Si no coinciden, la cadena no es válida, retornamos False\n",
        "                    return False\n",
        "            else:\n",
        "                # Si es un paréntesis abierto, lo añadimos a la pila para esperar su cierre\n",
        "                stack.append(char)\n",
        "\n",
        "        # Al final, si la pila está vacía significa que todos los paréntesis abiertos fueron cerrados correctamente\n",
        "        # Retornamos True si está vacía, False si no\n",
        "        return not stack\n",
        "\n",
        "\n",
        "#lo probamos\n",
        "sol = Solution()\n",
        "\n",
        "# Casos válidos\n",
        "print(sol.isValid(\"()\"))       # True\n",
        "print(sol.isValid(\"()[]{}\"))   # True\n",
        "print(sol.isValid(\"{[]}\"))     # True\n",
        "\n",
        "# Casos inválidos\n",
        "print(sol.isValid(\"(]\"))       # False\n",
        "print(sol.isValid(\"([)]\"))     # False\n",
        "print(sol.isValid(\"(((\"))      # False"
      ],
      "metadata": {
        "colab": {
          "base_uri": "https://localhost:8080/"
        },
        "id": "P3423eJWZg-l",
        "outputId": "b3c640a3-3490-4d50-f4d3-5c70d10755b8"
      },
      "execution_count": null,
      "outputs": [
        {
          "output_type": "stream",
          "name": "stdout",
          "text": [
            "True\n",
            "True\n",
            "True\n",
            "False\n",
            "False\n",
            "False\n"
          ]
        }
      ]
    },
    {
      "cell_type": "markdown",
      "source": [
        "Recorremos el string una sola vez.\n",
        "\n",
        "Usamos una pila para ir guardando los paréntesis abiertos.\n",
        "\n",
        "Cuando encontramos un paréntesis cerrado, comprobamos que cierre correctamente el último abierto (último de la pila).\n",
        "\n",
        "Si en algún momento no coincide el tipo o el orden, devolvemos False.\n",
        "\n",
        "Al final, si la pila está vacía, quiere decir que todos los paréntesis abiertos se cerraron bien, devolvemos True."
      ],
      "metadata": {
        "id": "I84H53gjZnrl"
      }
    },
    {
      "cell_type": "markdown",
      "source": [
        "**Análisis de complejidad**\n",
        "\n",
        "\n",
        "Tiempo: O(n), porque recorremos el string una vez y cada operación de pila es O(1).\n",
        "\n",
        "Espacio: O(n) en el peor caso, si todos son paréntesis abiertos, la pila crecerá hasta el tamaño de la cadena."
      ],
      "metadata": {
        "id": "enwc16FbZuoL"
      }
    },
    {
      "cell_type": "markdown",
      "source": [
        "Se usa una pila para almacenar y verificar el orden correcto de los paréntesis abiertos y cerrados."
      ],
      "metadata": {
        "id": "2q8HNypdZ7nl"
      }
    },
    {
      "cell_type": "markdown",
      "source": [
        "**Ahora esta con fuerza Bruta**"
      ],
      "metadata": {
        "id": "vlMnqfq8adYa"
      }
    },
    {
      "cell_type": "code",
      "source": [
        "class Solution:\n",
        "    def isValid(self, s: str) -> bool:\n",
        "        # Inicializamos una variable para almacenar la longitud anterior de la cadena\n",
        "        prev_length = -1\n",
        "\n",
        "\n",
        "        # Mientras la longitud de la cadena cambie (significa que se eliminaron pares)\n",
        "        while prev_length != len(s):\n",
        "            # Actualizamos la longitud previa a la actual\n",
        "            prev_length = len(s)\n",
        "            # Eliminamos todos los pares de paréntesis válidos de la cadena\n",
        "            s = s.replace(\"()\", \"\")\n",
        "            s = s.replace(\"{}\", \"\")\n",
        "            s = s.replace(\"[]\", \"\")\n",
        "\n",
        "\n",
        "        # Si al final la cadena quedó vacía, todos los paréntesis eran válidos y cerrados correctamente\n",
        "        return len(s) == 0\n",
        "\n",
        "#Lo pruebo\n",
        "        sol = Solution()\n",
        "\n",
        "# Casos válidos\n",
        "print(sol.isValid(\"()\"))       # True\n",
        "print(sol.isValid(\"()[]{}\"))   # True\n",
        "print(sol.isValid(\"{[]}\"))     # True\n",
        "\n",
        "# Casos inválidos\n",
        "print(sol.isValid(\"(]\"))       # False\n",
        "print(sol.isValid(\"([)]\"))     # False\n",
        "print(sol.isValid(\"(((\"))      # False\n"
      ],
      "metadata": {
        "id": "9CsIlJVRbVtC"
      },
      "execution_count": null,
      "outputs": []
    },
    {
      "cell_type": "markdown",
      "source": [
        "Repetidamente eliminamos pares de paréntesis válidos de la cadena.\n",
        "\n",
        "Si en algún momento no podemos eliminar más pares, salimos del ciclo.\n",
        "\n",
        "Si al final la cadena queda vacía, quiere decir que todos los paréntesis tenían su par y estaban en orden correcto.\n",
        "\n",
        "Si quedan caracteres, la cadena no es válida.\n",
        "\n",
        "\n",
        "**Análisis de complejidad**\n",
        "Tiempo: O(n^2) en el peor caso porque cada reemplazo puede recorrer toda la cadena y puede repetirse varias veces.\n",
        "\n",
        "Espacio: O(n), ya que hacemos copias de la cadena en cada reemplazo.\n",
        "\n"
      ],
      "metadata": {
        "id": "sRR6HhemcHsT"
      }
    },
    {
      "cell_type": "markdown",
      "source": [
        "# Palindrome Number"
      ],
      "metadata": {
        "id": "B09Dv7A6d1Ze"
      }
    },
    {
      "cell_type": "markdown",
      "source": [
        "Dado un entero x, devuelve verdadero si x es un palíndromo y falso en caso contrario.\n",
        "\n",
        "Ejemplo 1:\n",
        "\n",
        "Entrada: x = 121\n",
        "Salida: verdadero\n",
        "Explicación: 121 se lee como 121 de izquierda a derecha y de derecha a izquierda."
      ],
      "metadata": {
        "id": "jrhXJBA8ePBC"
      }
    },
    {
      "cell_type": "code",
      "source": [
        "#Version optimizada\n",
        "\n",
        "class Solution:\n",
        "    def isPalindrome(self, x):\n",
        "        # Primero reviso si el número es negativo. Si es negativo, no puede ser palíndromo\n",
        "        # Ejemplo: -121 al revés sería 121-, y eso no es lo mismo → devuelvo False\n",
        "        # También, si termina en 0 (como 10, 100, etc.), pero no es 0, tampoco puede ser palíndromo\n",
        "        # Porque al reversarlo empezaría con 0 y los números no pueden comenzar con 0\n",
        "        if x < 0 or (x % 10 == 0 and x != 0):\n",
        "            return False\n",
        "\n",
        "        # Voy a crear una variable que guarde la mitad invertida del número\n",
        "        # La idea es compararla con la otra mitad del número\n",
        "        half = 0\n",
        "\n",
        "        # Mientras el número original sea más grande que el invertido que estoy armando\n",
        "        # Significa que todavía no llego a la mitad\n",
        "        while x > half:\n",
        "            # Tomo el último dígito del número (x % 10) y lo agrego a 'half'\n",
        "            # Por ejemplo, si x = 123, el último dígito es 3, entonces half = 0*10 + 3 = 3\n",
        "            half = (half * 10) + (x % 10)\n",
        "\n",
        "            # Después elimino ese último dígito de x, dividiendo entre 10 y quedándome con la parte entera\n",
        "            # En el ejemplo: x = 123 → x //= 10 → x = 12\n",
        "            x //= 10\n",
        "\n",
        "        # Cuando salgo del ciclo, puede haber dos casos:\n",
        "        # 1. El número tiene cantidad par de dígitos → x y half deben ser exactamente iguales\n",
        "        # 2. El número tiene cantidad impar de dígitos → el del medio no importa, así que lo saco con half // 10\n",
        "\n",
        "        # Ejemplo impar: 12321 → después del ciclo: x = 12, half = 123 → 123 // 10 = 12 → x == 12\n",
        "        return x == half or x == half // 10\n",
        "\n",
        "# Pruebo la función con el número 121\n",
        "# Espero que me diga True porque 121 es igual al revés\n",
        "print(Solution().isPalindrome(121))\n"
      ],
      "metadata": {
        "colab": {
          "base_uri": "https://localhost:8080/"
        },
        "id": "w21HVt_2eSoU",
        "outputId": "bc4bbaeb-b052-4b7b-d201-3c94ca7d4666"
      },
      "execution_count": null,
      "outputs": [
        {
          "output_type": "stream",
          "name": "stdout",
          "text": [
            "True\n"
          ]
        }
      ]
    },
    {
      "cell_type": "code",
      "source": [
        "#Fuerza Bruta\n",
        "#fuerza bruta o como yo lo haria mas sencillo\n",
        "class Solution:\n",
        "    def isPalindrome(self, x):\n",
        "        x_str = str(x)              # Convierte el número a texto, por ejemplo: 121 -> \"121\"\n",
        "        return x_str == x_str[::-1] # Compara el texto original con su reverso  [::-1] es un truquito xd para invertir un string.\n",
        "    #¿El texto original es igual al texto invertido?”\n",
        "\n",
        "\n",
        "\n",
        "# Y lo pruebo\n",
        "print(Solution().isPalindrome(121))   # True\n",
        "print(Solution().isPalindrome(123))   # False\n",
        "print(Solution().isPalindrome(-121))  # False"
      ],
      "metadata": {
        "id": "5VPAh1kDevPg"
      },
      "execution_count": null,
      "outputs": []
    },
    {
      "cell_type": "markdown",
      "source": [
        "**Análisis de Complejidad**\n",
        "\n",
        "**Optimizado:**\n",
        "\n",
        "Tiempo: O(log₁₀ n), donde n es el número. Esto se debe a que el número se divide entre 10 en cada iteración, por lo que el número de pasos es proporcional a la cantidad de dígitos.\n",
        "\n",
        "Espacio: O(1), porque sólo usa variables para almacenar números enteros y no depende de espacio adicional que crezca con la entrada.\n",
        "\n",
        "**Fuerza bruta:**\n",
        "\n",
        "Tiempo: O(d), siendo d la cantidad de dígitos, porque convertir a string e invertirlo toma tiempo lineal respecto a la longitud del número.\n",
        "\n",
        "Espacio: O(d), ya que crea una nueva cadena invertida que puede ser tan larga como el número original."
      ],
      "metadata": {
        "id": "0UFP3fnSfLte"
      }
    },
    {
      "cell_type": "markdown",
      "source": [
        "# Remove Duplicates from sorted array"
      ],
      "metadata": {
        "id": "CZm8jy7Xhi9V"
      }
    },
    {
      "cell_type": "markdown",
      "source": [
        "Dado un array de enteros nums ordenado de forma no decreciente, elimine los duplicados en su lugar de forma que cada elemento único aparezca solo una vez. El orden relativo de los elementos debe mantenerse igual. Luego, devuelva el número de elementos únicos en nums."
      ],
      "metadata": {
        "id": "X-YxzXtFiWzZ"
      }
    },
    {
      "cell_type": "code",
      "source": [
        "#Manera Optimizada\n",
        "class Solution:\n",
        "    def removeDuplicates(self, nums: list[int]) -> int:\n",
        "        # Si la lista está vacía, no hay elementos únicos\n",
        "        if not nums:\n",
        "            return 0\n",
        "\n",
        "        # 'i' es el índice para colocar el siguiente elemento único\n",
        "        i = 0\n",
        "\n",
        "        # Recorremos la lista desde el segundo elemento hasta el final\n",
        "        for j in range(1, len(nums)):\n",
        "            # Comparamos el elemento actual con el último elemento único encontrado\n",
        "            if nums[j] != nums[i]:\n",
        "                i += 1           # Avanzamos el índice de elementos únicos\n",
        "                nums[i] = nums[j] # Guardamos el nuevo elemento único en la posición correcta\n",
        "\n",
        "        # El número de elementos únicos es i+1 porque 'i' es índice (base 0)\n",
        "        return i + 1\n",
        "\n",
        "    # Ejemplo de uso e impresión\n",
        "nums_opt = [0,0,1,1,1,2,2,3,3,4]\n",
        "sol = Solution()\n",
        "k_opt = sol.removeDuplicates(nums_opt)\n",
        "\n",
        "print(\"Optimizado:\")\n",
        "print(\"k =\", k_opt)\n",
        "print(\"nums modificada:\", nums_opt[:k_opt])  # Solo mostramos la parte válida de nums\n"
      ],
      "metadata": {
        "colab": {
          "base_uri": "https://localhost:8080/"
        },
        "id": "g2pA_U1kipdW",
        "outputId": "4d9d81a5-782d-4d57-e89b-a794bc28d8b7"
      },
      "execution_count": null,
      "outputs": [
        {
          "output_type": "stream",
          "name": "stdout",
          "text": [
            "Optimizado:\n",
            "k = 5\n",
            "nums modificada: [0, 1, 2, 3, 4]\n"
          ]
        }
      ]
    },
    {
      "cell_type": "markdown",
      "source": [
        "**MI explicacion : **\n",
        "\n",
        "El arreglo está ordenado, por lo que los duplicados están juntos. Usamos dos punteros:\n",
        "\n",
        "Uno (i) marca la posición donde se debe colocar el siguiente elemento único.\n",
        "\n",
        "Otro (j) recorre el arreglo buscando elementos diferentes al último único encontrado.\n",
        "\n",
        "Cuando encontramos un elemento distinto, avanzamos i y guardamos ese nuevo valor en la posición i. Al final, la cantidad de elementos únicos será i + 1.\n",
        "\n",
        "**Análisis de complejidad**\n",
        "\n",
        " O(n), donde n es el tamaño del arreglo. Sólo recorremos el arreglo una vez.\n",
        "\n",
        " O(1), se hace la modificación \"in-place\" sin usar espacio extra.\n",
        "\n",
        "**Similitud a la clase :**\n",
        "\n",
        "Solo usamos el arreglo original para modificarlo en sitio.\n",
        "\n",
        "Usamos variables enteras para índices, no se usan estructuras adicionales."
      ],
      "metadata": {
        "id": "153GNsBqi7kM"
      }
    },
    {
      "cell_type": "code",
      "source": [
        "#Fuerza Bruta\n",
        "class Solution:\n",
        "    def removeDuplicates(self, nums: list[int]) -> int:\n",
        "        # Crear una lista vacía para guardar los elementos únicos\n",
        "        únicos = []\n",
        "\n",
        "        # Recorrer cada número en la lista original\n",
        "        for num in nums:\n",
        "            # Si el número no está en la lista de únicos, lo agregamos\n",
        "            # Esto revisa si ya vimos ese número antes\n",
        "            if num not in únicos:\n",
        "                únicos.append(num)\n",
        "\n",
        "        # Ahora modificamos la lista original 'nums' para que\n",
        "        # los primeros elementos sean los únicos encontrados\n",
        "        for i in range(len(únicos)):\n",
        "            nums[i] = únicos[i]\n",
        "\n",
        "        # Devolvemos la cantidad de elementos únicos encontrados\n",
        "        return len(únicos)\n",
        "\n",
        "nums_fuerza = [0,0,1,1,1,2,2,3,3,4]\n",
        "sol = Solution()\n",
        "k_fuerza = sol.removeDuplicates(nums_fuerza)\n",
        "\n",
        "print(\"Fuerza bruta:\")\n",
        "print(\"k =\", k_fuerza)\n",
        "print(\"nums modificada:\", nums_fuerza[:k_fuerza])  # Solo mostramos la parte válida\n"
      ],
      "metadata": {
        "colab": {
          "base_uri": "https://localhost:8080/"
        },
        "id": "-TIhEzZ6jm6F",
        "outputId": "73375bfb-6e56-4847-e7a1-0b8a0cfd4830"
      },
      "execution_count": null,
      "outputs": [
        {
          "output_type": "stream",
          "name": "stdout",
          "text": [
            "Fuerza bruta:\n",
            "k = 5\n",
            "nums modificada: [0, 1, 2, 3, 4]\n"
          ]
        }
      ]
    },
    {
      "cell_type": "markdown",
      "source": [
        "**únicos = [ ]**\n",
        "\n",
        "Creamos una lista nueva para guardar los números únicos.\n",
        "\n",
        "**for num in nums:**\n",
        "\n",
        "Recorremos cada número en la lista original.\n",
        "\n",
        "**if num not in únicos:**\n",
        "\n",
        "Preguntamos si el número ya está en la lista de únicos (esto es costoso porque busca en toda la lista).\n",
        "\n",
        "**únicos.append(num)**\n",
        "\n",
        "Si no está, lo agregamos a la lista de números únicos.\n",
        "\n",
        "**for i in range(len(únicos)):**\n",
        "\n",
        "Luego, copiamos todos los números únicos encontrados a las primeras posiciones de la lista original nums.\n",
        "\n",
        "**nums[i] = únicos[i]**\n",
        "\n",
        "Asignamos el valor único en la posición correcta en la lista original.\n",
        "\n",
        "**return len(únicos)**\n",
        "\n",
        "Finalmente, retornamos la cantidad de elementos únicos.\n",
        "\n",
        "**Análisis de complejidad de esta versión de fuerza bruta**\n",
        "\n",
        " O(n²)\n",
        "\n",
        "Porque por cada número hacemos la búsqueda en la lista únicos que puede crecer hasta tamaño n.\n",
        "\n",
        "O(n)\n",
        "\n",
        "Usamos una lista extra para guardar los elementos únicos."
      ],
      "metadata": {
        "id": "Ud8juOs_lJcV"
      }
    },
    {
      "cell_type": "markdown",
      "source": [
        "# Remove Element"
      ],
      "metadata": {
        "id": "mjtUAKYouc9x"
      }
    },
    {
      "cell_type": "markdown",
      "source": [
        "Dado un array de enteros nums y un entero val, elimine todas las ocurrencias de val en nums in situ. El orden de los elementos puede modificarse. Luego, devuelva el número de elementos en nums que no sean iguales a val.\n",
        "\n",
        "Considere k como el número de elementos en nums que no sean iguales a val. Para que se acepte, debe hacer lo siguiente:\n",
        "\n",
        "Modifique el array nums de modo que los primeros k elementos de nums contengan los elementos que no sean iguales a val. Los elementos restantes de nums, así como su tamaño, no son importantes."
      ],
      "metadata": {
        "id": "1g7RiYA8udtZ"
      }
    },
    {
      "cell_type": "code",
      "source": [
        "# Definimos la clase Solution con el método óptimo\n",
        "class Solution:\n",
        "    def removeElement(self, nums, val):\n",
        "\n",
        "        #Elimina in-place todas las ocurrencias de 'val' en la lista 'nums' y\n",
        "        #retorna la cantidad de elementos restantes distintos de 'val'.\n",
        "\n",
        "        # i indica la posición donde vamos a colocar el siguiente número válido\n",
        "        i = 0\n",
        "\n",
        "        # Recorremos toda la lista con j\n",
        "        for j in range(len(nums)):\n",
        "            # Si el valor actual no es el que queremos eliminar\n",
        "            if nums[j] != val:\n",
        "                # Copiamos ese valor a la posición i (la siguiente válida)\n",
        "                nums[i] = nums[j]\n",
        "                i += 1  # Avanzamos la posición válida\n",
        "        # Al final, i es la cantidad de elementos diferentes a val\n",
        "        return i\n",
        "\n",
        "\n",
        "#Lo pruebo para ver si funciona\n",
        "\n",
        "# Creamos una instancia de la clase Solution\n",
        "sol = Solution()\n",
        "\n",
        "# Ejemplo 1\n",
        "nums1 = [3, 2, 2, 3]\n",
        "val1 = 3\n",
        "k1 = sol.removeElement(nums1, val1)\n",
        "\n",
        "print(\"Óptima Ejemplo 1:\")\n",
        "print(\"k =\", k1)\n"
      ],
      "metadata": {
        "colab": {
          "base_uri": "https://localhost:8080/"
        },
        "id": "8ilmrkzU0MJc",
        "outputId": "2773bb66-abf4-4f92-9b23-408ff7cb2e6c"
      },
      "execution_count": null,
      "outputs": [
        {
          "output_type": "stream",
          "name": "stdout",
          "text": [
            "Óptima Ejemplo 1:\n",
            "k = 2\n"
          ]
        }
      ]
    },
    {
      "cell_type": "markdown",
      "source": [
        "**Explicación:**\n",
        "\n",
        "Se usa un índice i para llevar el control de la posición donde guardar los valores que no son iguales a val.\n",
        "\n",
        "Si nums[j] != val, se guarda ese valor en nums[i] y se incrementa i.\n",
        "\n",
        "Los valores más allá de la posición k (i) no importan, según las reglas del problema.\n",
        "\n",
        "**Complejidad de la solución óptima:**\n",
        "\n",
        "Tiempo: O(n) → Recorremos toda la lista una sola vez.\n",
        "\n",
        "Espacio: O(1) → Modificamos la lista en el mismo espacio (in-place).\n",
        "\n",
        "Estructura usada: Aquí uso array :)"
      ],
      "metadata": {
        "id": "8QJrnyqK1R5s"
      }
    },
    {
      "cell_type": "code",
      "source": [
        "#Fuerza Bruta\n",
        "# Definimos otra clase con la versión de fuerza bruta\n",
        "class FuerzaBruta:\n",
        "    def removeElement(self, nums, val):\n",
        "\n",
        "        #Elimina in-place todas las ocurrencias de 'val' en la lista 'nums'\n",
        "        #usando eliminación con pop() dentro de un while.\n",
        "\n",
        "        i = 0\n",
        "        while i < len(nums):\n",
        "            # Si encontramos el valor a eliminar\n",
        "            if nums[i] == val:\n",
        "                nums.pop(i)  # Lo eliminamos\n",
        "                # No incrementamos i porque la lista se recorre hacia adelante automáticamente\n",
        "            else:\n",
        "                i += 1  # Avanzamos solo si no eliminamos nada\n",
        "        return len(nums)\n",
        "\n",
        "\n",
        "\n",
        "# Instancia de la clase\n",
        "fb = FuerzaBruta()\n",
        "\n",
        "# Ejemplo 1\n",
        "nums1 = [3, 2, 2, 3]\n",
        "val1 = 3\n",
        "k1 = fb.removeElement(nums1, val1)\n",
        "\n",
        "print(\"\\nFuerza Bruta - Ejemplo 1:\")\n",
        "print(\"k =\", k1)\n",
        "print(\"nums modificados =\", nums1)\n",
        "\n",
        "\n",
        "\n",
        "\n"
      ],
      "metadata": {
        "colab": {
          "base_uri": "https://localhost:8080/"
        },
        "id": "H0A7it5T1smI",
        "outputId": "23620ff3-c21b-45d4-bdc1-602987390099"
      },
      "execution_count": null,
      "outputs": [
        {
          "output_type": "stream",
          "name": "stdout",
          "text": [
            "\n",
            "Fuerza Bruta - Ejemplo 1:\n",
            "k = 2\n",
            "nums modificados = [2, 2]\n"
          ]
        }
      ]
    },
    {
      "cell_type": "markdown",
      "source": [
        "Aqui uso un while con pop ( ) para eliminar elementos.\n",
        "\n",
        "Cada vez que elimino, todos los elementos siguientes se mueven una posición, lo que hace que sea más lento.\n",
        "\n",
        "Es más facil de ver a mi parecer, pero es menos eficiente para listas largas."
      ],
      "metadata": {
        "id": "I2s6UcfW2Hoe"
      }
    },
    {
      "cell_type": "markdown",
      "source": [
        "**Complejidad de la fuerza bruta:**\n",
        "\n",
        " O(n²) → Porque cada pop(i) es O(n) en el peor caso, y lo puedes hacer hasta n veces.\n",
        "\n",
        "Uso un array"
      ],
      "metadata": {
        "id": "l7pRtO7M2WVm"
      }
    },
    {
      "cell_type": "markdown",
      "source": [
        "# Count Unique Elements"
      ],
      "metadata": {
        "id": "9vSAaPGa5HyQ"
      }
    },
    {
      "cell_type": "markdown",
      "source": [
        "Dado un arreglo de enteros, contar cuántos elementos únicos hay."
      ],
      "metadata": {
        "id": "UVib1IT95MjI"
      }
    },
    {
      "cell_type": "code",
      "source": [
        "#De Manera optimizada\n",
        "\n",
        "def countUniqueElements(nums):\n",
        "    # Creamos un conjunto para almacenar solo elementos únicos\n",
        "    unique_elements = set()\n",
        "\n",
        "    # Recorremos la lista e insertamos cada número en el conjunto\n",
        "    for num in nums:\n",
        "        unique_elements.add(num)\n",
        "\n",
        "    # Retornamos la cantidad de elementos únicos\n",
        "    return len(unique_elements)\n",
        "\n",
        "#Ahora lo pruebo\n",
        "nums = [1, 2, 2, 3, 4, 4, 5]\n",
        "print(\"Resultado:\", countUniqueElements(nums))    #me tiene que dcar 5 :)\n"
      ],
      "metadata": {
        "colab": {
          "base_uri": "https://localhost:8080/"
        },
        "id": "-RnbcyQ-5Tt_",
        "outputId": "409d96d9-76fd-484a-9776-87b25bae784c"
      },
      "execution_count": null,
      "outputs": [
        {
          "output_type": "stream",
          "name": "stdout",
          "text": [
            "Resultado: 5\n"
          ]
        }
      ]
    },
    {
      "cell_type": "markdown",
      "source": [
        "\n",
        "\n",
        "Se usa un set porque automáticamente elimina duplicados.\n",
        "\n",
        "Agregamos todos los elementos al set y luego devolvemos su longitud.\n",
        "\n",
        "**Complejidad:**\n",
        "\n",
        " O(n)\n",
        "\n",
        "\n",
        "Estructura de datos:\n",
        "usamos set como el (conjunto)"
      ],
      "metadata": {
        "id": "VZYYBxbO5zGM"
      }
    },
    {
      "cell_type": "code",
      "source": [
        "#Fuerza Bruta\n",
        "def countUniqueElementsBrute(nums):\n",
        "    count = 0  # Inicializamos contador de elementos únicos\n",
        "\n",
        "    for i in range(len(nums)):  # Recorremos cada elemento\n",
        "        is_unique = True  # Suponemos que el elemento actual es único\n",
        "\n",
        "        for j in range(len(nums)):  # Lo comparamos con todos los demás\n",
        "            if i != j and nums[i] == nums[j]:  # Si hay duplicado (en diferente posición)\n",
        "                is_unique = False  # Ya no es único\n",
        "                break  # Terminamos búsqueda\n",
        "\n",
        "        if is_unique:\n",
        "            count += 1  # Si se mantuvo único, sumamos al contador\n",
        "\n",
        "    return count  # Regresamos cuántos únicos hay\n",
        "\n",
        "\n",
        "print(countUniqueElementsBrute([1, 2, 2, 3, 4, 4, 5]))\n"
      ],
      "metadata": {
        "colab": {
          "base_uri": "https://localhost:8080/"
        },
        "id": "uCeVJ9-R6Gbn",
        "outputId": "11bc0b29-6a1f-48a7-9179-f8700d2417e0"
      },
      "execution_count": null,
      "outputs": [
        {
          "output_type": "stream",
          "name": "stdout",
          "text": [
            "3\n"
          ]
        }
      ]
    },
    {
      "cell_type": "markdown",
      "source": [
        "Explicación:\n",
        "\n",
        "Comparamos cada elemento con todos los demás.\n",
        "\n",
        "Si no se repite, lo consideramos único.\n",
        "\n",
        "**Complejidad:**\n",
        "\n",
        "O(n²) (comparación doble)\n",
        "\n",
        "O(1) (solo un contador)\n",
        "\n",
        "Estructura de datos: Lista (básica)"
      ],
      "metadata": {
        "id": "kWOe9rdv6yqb"
      }
    },
    {
      "cell_type": "markdown",
      "source": [
        "# First Non-Repeating Character"
      ],
      "metadata": {
        "id": "pnYN5ILk7cBI"
      }
    },
    {
      "cell_type": "code",
      "source": [
        "#VERSION OPTIMIZADA\n",
        "\n",
        "def firstNonRepeatingChar(s):\n",
        "    from collections import Counter\n",
        "\n",
        "    # Contamos cada letra usando Counter\n",
        "    count = Counter(s)\n",
        "\n",
        "    # Buscamos la primera letra que solo aparece una vez\n",
        "    for char in s:\n",
        "        if count[char] == 1:\n",
        "            return char\n",
        "    return None\n",
        "\n",
        "# Ejemplo\n",
        "print(\"Primera no repetida:\", firstNonRepeatingChar(\"aabccdbe\"))\n",
        "\n",
        "\n"
      ],
      "metadata": {
        "colab": {
          "base_uri": "https://localhost:8080/"
        },
        "id": "WMihrYc58cRI",
        "outputId": "29f5e9c2-f68d-4daa-89fe-66b7eb62560d"
      },
      "execution_count": null,
      "outputs": [
        {
          "output_type": "stream",
          "name": "stdout",
          "text": [
            "Primera no repetida: d\n"
          ]
        }
      ]
    },
    {
      "cell_type": "markdown",
      "source": [
        "**Explicación:**\n",
        "\n",
        "Counter nos da las frecuencias de cada letra.\n",
        "\n",
        "Luego buscamos la primera que tiene frecuencia 1.\n",
        "\n",
        "Complejidad:\n",
        "\n",
        " O(n)\n",
        "\n",
        " O(n)\n",
        "\n",
        "Estructura de datos: Diccionario (Counter)"
      ],
      "metadata": {
        "id": "iMmVDhWT_5u2"
      }
    },
    {
      "cell_type": "code",
      "source": [
        "#FUERZA BRUTAA\n",
        "\n",
        "def firstNonRepeatingCharBrute(s):\n",
        "    for i in range(len(s)):  # Recorremos cada letra\n",
        "\n",
        "        if s.count(s[i]) == 1:  # Si solo aparece una vez en todo el string\n",
        "            return s[i]  # Es la primera no repetida\n",
        "\n",
        "    return None  # Si no hay ninguna, devolvemos None\n",
        "\n",
        "print(firstNonRepeatingCharBrute(\"aabccdbe\"))\n",
        "\n"
      ],
      "metadata": {
        "colab": {
          "base_uri": "https://localhost:8080/"
        },
        "id": "vAAqKhOj-17z",
        "outputId": "17a0570a-d664-4d93-b83e-a7e45237f1ee"
      },
      "execution_count": null,
      "outputs": [
        {
          "output_type": "stream",
          "name": "stdout",
          "text": [
            "d\n"
          ]
        }
      ]
    },
    {
      "cell_type": "markdown",
      "source": [
        "**count(c)** cuenta cuántas veces aparece una letra.\n",
        "\n",
        "Si solo aparece una vez, la devolvemos.\n",
        "\n",
        "**Complejidad:**\n",
        "\n",
        " O(n²) (count() recorre toda la cadena en cada iteración)\n",
        "\n",
        "Espacio: O(1)\n",
        "\n",
        "Estructura de datos: String"
      ],
      "metadata": {
        "id": "FcXbOb7XASPC"
      }
    },
    {
      "cell_type": "markdown",
      "source": [
        "# Reverse Stack"
      ],
      "metadata": {
        "id": "S5JKVuY5AolX"
      }
    },
    {
      "cell_type": "code",
      "source": [
        "#Versión óptima\n",
        "def reverseStack(stack):\n",
        "    # Usamos una pila auxiliar\n",
        "    reversed_stack = []\n",
        "\n",
        "    # Mientras haya elementos en la pila original, los pasamos a la nueva\n",
        "    while stack:\n",
        "        reversed_stack.append(stack.pop())\n",
        "\n",
        "    return reversed_stack\n",
        "\n",
        "# Ejemplo\n",
        "original = [1, 2, 3, 4, 5]\n",
        "print(\"Pila invertida:\", reverseStack(original))  # [5, 4, 3, 2, 1]\n"
      ],
      "metadata": {
        "id": "eMiiNnjTAwh6"
      },
      "execution_count": null,
      "outputs": []
    },
    {
      "cell_type": "markdown",
      "source": [
        "**Explicación:**\n",
        "\n",
        ".pop() saca elementos desde arriba (último).\n",
        "\n",
        ".append() en una nueva pila los reordena al revés.\n",
        "\n",
        "Complejidad:\n",
        " O(n)\n",
        "\n",
        "O(n)\n",
        "\n",
        "Estructura de datos: Lista como stack (pila)"
      ],
      "metadata": {
        "id": "EsRGsyu1A9AB"
      }
    },
    {
      "cell_type": "code",
      "source": [
        "#Fuerza Bruta\n",
        "\n",
        "def reverseStackBrute(stack):\n",
        "    reversed_stack = []  # Nueva pila vacía\n",
        "\n",
        "    while stack:  # Mientras la pila original tenga elementos\n",
        "        # insert(0, ...) este va colocar el elemento al principio del arreglo\n",
        "        reversed_stack.insert(0, stack.pop())\n",
        "\n",
        "    return reversed_stack  # Devolvemos la pila invertida\n",
        "\n",
        "#print(reverseStackBrute([1, 2, 3, 4, 5]))\n"
      ],
      "metadata": {
        "id": "dS93wxEDBNDk"
      },
      "execution_count": null,
      "outputs": []
    },
    {
      "cell_type": "markdown",
      "source": [
        "**Explicación:**\n",
        "\n",
        "Sacamos los elementos de la pila original con .pop().\n",
        "\n",
        "Los insertamos al inicio de una nueva lista con .insert(0, ...).\n",
        "\n",
        "**Complejidad:**\n",
        "\n",
        " O(n²) (insertar al principio cuesta O(n) cada vez)\n",
        "\n",
        "O(n)\n",
        "\n",
        "Estructura de datos: Lista como pila"
      ],
      "metadata": {
        "id": "-230Ix9pBruK"
      }
    },
    {
      "cell_type": "markdown",
      "source": [
        "# SQRT(X)"
      ],
      "metadata": {
        "id": "wvYIMxPuB_7K"
      }
    },
    {
      "cell_type": "markdown",
      "source": [
        "Dado un entero positivo x, devuelve la raíz cuadrada de x redondeada al entero más cercano. El entero devuelto también debe ser positivo.\n",
        "\n",
        "No debe usar ninguna función ni operador de exponente integrado.\n"
      ],
      "metadata": {
        "id": "Hc_GRBE0DDwx"
      }
    },
    {
      "cell_type": "code",
      "source": [
        "def roundedSqrt(x):\n",
        "    # Si x es 0 o 1, su raíz cuadrada redondeada es el mismo número\n",
        "    if x < 2:\n",
        "        return x\n",
        "\n",
        "    # Definimos los límites iniciales de la búsqueda binaria\n",
        "    left = 1                   # Límite inferior\n",
        "    right = x // 2 + 1         # Límite superior. No puede ser mayor a x // 2 + 1\n",
        "    ans = 1                    # Variable que almacenará la raíz más cercana\n",
        "\n",
        "    # Comenzamos la búsqueda binaria\n",
        "    while left <= right:\n",
        "        mid = (left + right) // 2  # Calculamos el punto medio\n",
        "        square = mid * mid         # Elevamos mid al cuadrado sin usar funciones\n",
        "\n",
        "        if square == x:\n",
        "            # Si encontramos una raíz exacta, la devolvemos de inmediato\n",
        "            return mid\n",
        "        elif square < x:\n",
        "            # Si el cuadrado es menor que x, nos movemos hacia la derecha\n",
        "            ans = mid              # Guardamos este valor como posible respuesta\n",
        "            left = mid + 1         # Aumentamos el límite inferior\n",
        "        else:\n",
        "            # Si el cuadrado es mayor que x, reducimos el límite superior\n",
        "            right = mid - 1\n",
        "\n",
        "    # Después del ciclo, comparamos cuál de los dos valores está más cerca de la raíz\n",
        "    if abs(ans * ans - x) <= abs((ans + 1) * (ans + 1) - x):\n",
        "        return ans             # Si ans está más cerca, lo devolvemos\n",
        "    else:\n",
        "        return ans + 1         # Si ans+1 está más cerca, lo devolvemos\n",
        "\n",
        "\n",
        "print(roundedSqrt(4))\n",
        "\n",
        "\n"
      ],
      "metadata": {
        "colab": {
          "base_uri": "https://localhost:8080/"
        },
        "id": "uQTnvuDJDCfL",
        "outputId": "1d7c0846-202e-4ace-bf9b-a7fdea9cd94f"
      },
      "execution_count": null,
      "outputs": [
        {
          "output_type": "stream",
          "name": "stdout",
          "text": [
            "2\n"
          ]
        }
      ]
    },
    {
      "cell_type": "markdown",
      "source": [
        "**if x < 2: **\n",
        "\n",
        "La raíz de 1 es 1, de 0 es 0.\n",
        "\n",
        "**left, right = 1, x // 2 + 1 **\n",
        "\n",
        "Acotamos la búsqueda hasta la mitad (porque √x < x/2 para x > 4).\n",
        "\n",
        "**mid = (left + right) // 2 **\n",
        "\n",
        "Búsqueda binaria clásica.\n",
        "\n",
        "square = mid * mid\n",
        "\n",
        "Elevamos sin usar funciones.\n",
        "\n",
        "\n",
        "\n",
        "Se va ajustando left y right hasta encontrar el punto más cercano (ans).\n",
        "\n",
        "Después del ciclo, se compara qué valor (ans o ans + 1) tiene el cuadrado más cercano al original usando abs()."
      ],
      "metadata": {
        "id": "vGK77vlUGoSH"
      }
    },
    {
      "cell_type": "markdown",
      "source": [
        "Complejidad:\n",
        "\n",
        "Tiempo: O(log n)\n",
        "\n",
        "Espacio: O(1)\n",
        "\n",
        "Estructura de datos usada: enteros simples y técnica de búsqueda binaria"
      ],
      "metadata": {
        "id": "h70bluzCHYDF"
      }
    },
    {
      "cell_type": "code",
      "source": [
        "#Fuerza Bruta\n",
        "\n",
        "def roundedSqrtBrute(x):\n",
        "    i = 0\n",
        "\n",
        "    while i * i <= x:\n",
        "        i += 1\n",
        "\n",
        "    before = i - 1\n",
        "    after = i\n",
        "\n",
        "    # Decidimos cuál está más cerca\n",
        "    if abs(before * before - x) <= abs(after * after - x):\n",
        "        return before\n",
        "    else:\n",
        "        return after\n",
        "\n",
        "print(roundedSqrt(8))"
      ],
      "metadata": {
        "colab": {
          "base_uri": "https://localhost:8080/"
        },
        "id": "h4D2bcF_Hm_o",
        "outputId": "20da569a-cdb3-4619-f4f4-34677fc09a47"
      },
      "execution_count": null,
      "outputs": [
        {
          "output_type": "stream",
          "name": "stdout",
          "text": [
            "3\n"
          ]
        }
      ]
    },
    {
      "cell_type": "markdown",
      "source": [
        "\n",
        "\n",
        "i = 0 → Iniciamos desde cero.\n",
        "\n",
        "while i * i <= x: → Seguimos hasta que nos pasemos.\n",
        "\n",
        "before = i - 1, after = i → Guardamos el más cercano por debajo y el más cercano por encima.\n",
        "\n",
        "Comparamos abs(...) para saber cuál está más cerca.\n",
        "\n",
        "Retornamos el más cercano.\n",
        "\n",
        " Complejidad:\n",
        "\n",
        " O(√n)\n",
        "\n",
        " O(1)\n",
        "\n",
        "Estructura de datos usada: enteros simples."
      ],
      "metadata": {
        "id": "IBgx1hH4Ht5X"
      }
    },
    {
      "cell_type": "markdown",
      "source": [],
      "metadata": {
        "id": "zfoe7EoNHt2a"
      }
    }
  ]
}